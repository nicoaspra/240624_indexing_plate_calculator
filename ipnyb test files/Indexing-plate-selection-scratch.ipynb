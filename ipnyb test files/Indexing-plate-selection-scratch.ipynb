{
 "cells": [
  {
   "cell_type": "code",
   "execution_count": 59,
   "metadata": {},
   "outputs": [
    {
     "name": "stdout",
     "output_type": "stream",
     "text": [
      "Select Plate 1 with 15 holes circle.\n",
      "Move 150 holes per index.\n"
     ]
    }
   ],
   "source": [
    "# Available indexing plates with holes\n",
    "indexing_plates = {\n",
    "    'Plate 1': [15, 16, 17, 18, 19, 20],\n",
    "    'Plate 2': [21, 23, 27, 29, 31, 33],\n",
    "    'Plate 3': [37, 39, 41, 43, 47, 49]\n",
    "}\n",
    "\n",
    "def select_indexing_plate(teeth):\n",
    "    # Iterate through available plates and holes\n",
    "    for plate, holes in indexing_plates.items():\n",
    "        for hole_count in holes:\n",
    "            turns = 40 / teeth\n",
    "            # Check if the number of holes needed is an integer\n",
    "            if turns * hole_count % 1 == 0:\n",
    "                return plate, hole_count, turns * hole_count\n",
    "    return None, None, None\n",
    "\n",
    "def main():\n",
    "    teeth = int(input(\"Enter the number of teeth: \"))\n",
    "    plate, hole_count, holes_needed = select_indexing_plate(teeth)\n",
    "    \n",
    "    if plate is not None:\n",
    "        print(f\"Select {plate} with {hole_count} holes circle.\")\n",
    "        print(f\"Move {int(holes_needed)} holes per index.\")\n",
    "    else:\n",
    "        print(\"No suitable indexing plate found for the given number of teeth.\")\n",
    "\n",
    "if __name__ == \"__main__\":\n",
    "    main()"
   ]
  },
  {
   "cell_type": "code",
   "execution_count": 54,
   "metadata": {},
   "outputs": [
    {
     "ename": "NameError",
     "evalue": "name 'plate' is not defined",
     "output_type": "error",
     "traceback": [
      "\u001b[0;31m---------------------------------------------------------------------------\u001b[0m",
      "\u001b[0;31mNameError\u001b[0m                                 Traceback (most recent call last)",
      "Cell \u001b[0;32mIn[54], line 1\u001b[0m\n\u001b[0;32m----> 1\u001b[0m \u001b[38;5;28mprint\u001b[39m(\u001b[38;5;124mf\u001b[39m\u001b[38;5;124m\"\u001b[39m\u001b[38;5;124mSelect \u001b[39m\u001b[38;5;132;01m{\u001b[39;00mplate\u001b[38;5;132;01m}\u001b[39;00m\u001b[38;5;124m asd\u001b[39m\u001b[38;5;124m\"\u001b[39m)\n",
      "\u001b[0;31mNameError\u001b[0m: name 'plate' is not defined"
     ]
    }
   ],
   "source": [
    "print(f\"Select {plate} asd\")"
   ]
  },
  {
   "cell_type": "code",
   "execution_count": 61,
   "metadata": {},
   "outputs": [
    {
     "name": "stdout",
     "output_type": "stream",
     "text": [
      "Select Plate 1 with 15 holes circle.\n",
      "Move 25 holes per index.\n",
      "The division 40/24 is 1 2/3 (simplified).\n",
      "Expanded form: 1 10/15.\n"
     ]
    }
   ],
   "source": [
    "from fractions import Fraction\n",
    "\n",
    "# Available indexing plates with holes\n",
    "indexing_plates = {\n",
    "    'Plate 1': [15, 16, 17, 18, 19, 20],\n",
    "    'Plate 2': [21, 23, 27, 29, 31, 33],\n",
    "    'Plate 3': [37, 39, 41, 43, 47, 49]\n",
    "}\n",
    "\n",
    "def select_indexing_plate(teeth):\n",
    "    # Calculate the turns and the fractional part\n",
    "    turns = 40 / teeth\n",
    "    integer_part = int(turns)\n",
    "    fractional_part = turns - integer_part\n",
    "    \n",
    "    # Check if the number of teeth directly matches any of the holes in the indexing plates\n",
    "    for plate, holes in indexing_plates.items():\n",
    "        if teeth in holes:\n",
    "            return (plate, teeth, 40 / teeth, integer_part, 0, 0, 0, 0, fractional_part, True)\n",
    "\n",
    "    if fractional_part == 0:\n",
    "        return (None, None, None, integer_part, 0, 0, 0, 0, fractional_part, False)\n",
    "    else:\n",
    "        simplified_fractional_part = Fraction(fractional_part).limit_denominator()\n",
    "        expanded_fraction_numerator = int(fractional_part * 15)\n",
    "        expanded_fraction_denominator = 15\n",
    "        expanded_fractional_part = Fraction(expanded_fraction_numerator, expanded_fraction_denominator)\n",
    "\n",
    "    # Iterate through available plates and holes\n",
    "    for plate, holes in indexing_plates.items():\n",
    "        for hole_count in holes:\n",
    "            # Check if the number of holes needed is an integer\n",
    "            if turns * hole_count % 1 == 0:\n",
    "                return (plate, hole_count, turns * hole_count, integer_part, \n",
    "                        simplified_fractional_part, expanded_fractional_part, \n",
    "                        expanded_fraction_numerator, expanded_fraction_denominator, fractional_part, False)\n",
    "    return None, None, None, None, None, None, None, None, None, False\n",
    "\n",
    "def main():\n",
    "    teeth = int(input(\"Enter the number of teeth: \"))\n",
    "    (plate, hole_count, holes_needed, integer_part, \n",
    "     simplified_fractional_part, expanded_fractional_part,\n",
    "     expanded_fraction_numerator, expanded_fraction_denominator, fractional_part, exact_match) = select_indexing_plate(teeth)\n",
    "    \n",
    "    if exact_match:\n",
    "        print(f\"Select {plate} with {hole_count} holes circle.\")\n",
    "        print(f\"Move {int(holes_needed)} holes per index.\")\n",
    "    elif plate is not None:\n",
    "        print(f\"Select {plate} with {hole_count} holes circle.\")\n",
    "        print(f\"Move {int(holes_needed)} holes per index.\")\n",
    "        print(f\"The division 40/{teeth} is {integer_part} {simplified_fractional_part} (simplified).\")\n",
    "        print(f\"Expanded form: {integer_part} {expanded_fraction_numerator}/{expanded_fraction_denominator}.\")\n",
    "    else:\n",
    "        print(\"No suitable indexing plate found for the given number of teeth.\")\n",
    "\n",
    "if __name__ == \"__main__\":\n",
    "    main()"
   ]
  },
  {
   "cell_type": "code",
   "execution_count": 57,
   "metadata": {},
   "outputs": [
    {
     "name": "stdout",
     "output_type": "stream",
     "text": [
      "Select Plate 1 with 15 holes circle.\n",
      "Move 150 holes per index.\n",
      "The division 40/4 is 10 0 (simplified).\n",
      "Expanded form: 10 0/15.\n"
     ]
    }
   ],
   "source": [
    "from fractions import Fraction\n",
    "\n",
    "# Available indexing plates with holes\n",
    "indexing_plates = {\n",
    "    'Plate 1': [15, 16, 17, 18, 19, 20],\n",
    "    'Plate 2': [21, 23, 27, 29, 31, 33],\n",
    "    'Plate 3': [37, 39, 41, 43, 47, 49]\n",
    "}\n",
    "\n",
    "def select_indexing_plate(teeth):\n",
    "    # Calculate the turns\n",
    "    turns = 40 / teeth\n",
    "    \n",
    "    # Check for exact matches or multiples in the indexing plates\n",
    "    for plate, holes in indexing_plates.items():\n",
    "        for hole_count in holes:\n",
    "            if teeth % hole_count == 0:\n",
    "                return (plate, hole_count, 40 / hole_count, True, turns)\n",
    "\n",
    "    integer_part = int(turns)\n",
    "    fractional_part = turns - integer_part\n",
    "\n",
    "    simplified_fractional_part = Fraction(fractional_part).limit_denominator()\n",
    "    expanded_fraction_numerator = int(fractional_part * 15)\n",
    "    expanded_fraction_denominator = 15\n",
    "    expanded_fractional_part = Fraction(expanded_fraction_numerator, expanded_fraction_denominator)\n",
    "\n",
    "    # Check for non-integer turns\n",
    "    for plate, holes in indexing_plates.items():\n",
    "        for hole_count in holes:\n",
    "            if turns * hole_count % 1 == 0:\n",
    "                return (plate, hole_count, turns * hole_count, False, turns, integer_part, \n",
    "                        simplified_fractional_part, expanded_fractional_part, \n",
    "                        expanded_fraction_numerator, expanded_fraction_denominator)\n",
    "\n",
    "    return None, None, None, False, turns, None, None, None, None, None\n",
    "\n",
    "def main():\n",
    "    teeth = int(input(\"Enter the number of teeth: \"))\n",
    "    (plate, hole_count, holes_needed, is_multiple, turns, integer_part, \n",
    "     simplified_fractional_part, expanded_fractional_part,\n",
    "     expanded_fraction_numerator, expanded_fraction_denominator) = select_indexing_plate(teeth)\n",
    "\n",
    "    if is_multiple:\n",
    "        print(f\"Select {plate} with {hole_count} holes circle.\")\n",
    "        print(f\"Move {int(holes_needed)} holes per index.\")\n",
    "    elif plate is not None:\n",
    "        print(f\"Select {plate} with {hole_count} holes circle.\")\n",
    "        print(f\"Move {int(holes_needed)} holes per index.\")\n",
    "        print(f\"The division 40/{teeth} is {integer_part} {simplified_fractional_part} (simplified).\")\n",
    "        print(f\"Expanded form: {integer_part} {expanded_fraction_numerator}/{expanded_fraction_denominator}.\")\n",
    "    else:\n",
    "        print(\"No suitable indexing plate found for the given number of teeth.\")\n",
    "\n",
    "if __name__ == \"__main__\":\n",
    "    main()"
   ]
  }
 ],
 "metadata": {
  "kernelspec": {
   "display_name": "base",
   "language": "python",
   "name": "python3"
  },
  "language_info": {
   "codemirror_mode": {
    "name": "ipython",
    "version": 3
   },
   "file_extension": ".py",
   "mimetype": "text/x-python",
   "name": "python",
   "nbconvert_exporter": "python",
   "pygments_lexer": "ipython3",
   "version": "3.11.8"
  }
 },
 "nbformat": 4,
 "nbformat_minor": 2
}
