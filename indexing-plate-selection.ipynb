{
 "cells": [
  {
   "cell_type": "code",
   "execution_count": 5,
   "metadata": {},
   "outputs": [
    {
     "name": "stdout",
     "output_type": "stream",
     "text": [
      "Use Plate 1 with 16 holes\n",
      "The number of turns is 1/2 or 8/16\n",
      "Which translates to moving 8 hole(s) per index\n"
     ]
    }
   ],
   "source": [
    "from fractions import Fraction\n",
    "\n",
    "indexing_plates = {\n",
    "    'Plate 1': [15, 16, 17, 18, 19, 20],\n",
    "    'Plate 2': [21, 23, 27, 29, 31, 33],\n",
    "    'Plate 3': [37, 39, 41, 43, 47, 49]\n",
    "}\n",
    "\n",
    "def find_smallest_divisible_hole(denominator):\n",
    "    smallest_hole = None\n",
    "    smallest_plate = None\n",
    "    for plate, holes in indexing_plates.items():\n",
    "        for hole in holes:\n",
    "            if hole % denominator == 0:\n",
    "                if smallest_hole is None or hole < smallest_hole:\n",
    "                    smallest_hole = hole\n",
    "                    smallest_plate = plate\n",
    "    return smallest_plate, smallest_hole\n",
    "\n",
    "def main():\n",
    "    teeth = int(input(\"Enter the number of teeth: \"))\n",
    "    turns = 40 / teeth\n",
    "    integer_part = int(turns)\n",
    "    fractional_part = turns - integer_part\n",
    "\n",
    "    # Convert the fractional part to a fraction\n",
    "    fraction = Fraction(fractional_part).limit_denominator()\n",
    "\n",
    "    # Extract the numerator and denominator\n",
    "    numerator = fraction.numerator\n",
    "    denominator = fraction.denominator\n",
    "\n",
    "    smallest_plate, smallest_hole = find_smallest_divisible_hole(denominator)\n",
    "    if smallest_hole:\n",
    "        multiplier = smallest_hole / denominator\n",
    "        numerator_new = int(numerator * multiplier)\n",
    "        denominator_new = int(denominator * multiplier)\n",
    "        hole_move = (integer_part * denominator_new) + numerator_new\n",
    "\n",
    "        # If partial use of hole\n",
    "        if denominator != 1:\n",
    "            print(f\"Use {smallest_plate} with {smallest_hole} holes\")\n",
    "            if numerator == numerator_new and integer_part == 0: # fraction (no conversion) \"41\"\n",
    "                print(f\"The number of turns is {numerator}/{denominator}\")\n",
    "                print(f\"Which translates to moving {hole_move} hole(s) per index\")\n",
    "            elif numerator != numerator_new and integer_part == 0: # fraction (get LCD) \"46\"\n",
    "                print(f\"The number of turns is {numerator}/{denominator} or {numerator_new}/{denominator_new}\")\n",
    "                print(f\"Which translates to moving {hole_move} hole(s) per index\")\n",
    "            elif numerator == numerator_new and integer_part != 0: # mixed fraction (no conversion)\n",
    "                print(f\"The number of turns is {integer_part} {numerator}/{denominator}\")\n",
    "                print(f\"Which translates to moving {integer_part} complete revolution(s) and {numerator_new} hole(s), or a total of {hole_move} holes per index\")\n",
    "            else: # mixed fraction \"24\"\n",
    "                print(f\"The number of turns is {integer_part} {numerator}/{denominator} or {integer_part} {numerator_new}/{denominator_new}\")\n",
    "                print(f\"Which translates to moving {integer_part} complete revolution(s) and {numerator_new} hole(s), or a total of {hole_move} holes per index\")\n",
    "        else:\n",
    "            print(f\"You can use any plate.\")\n",
    "            print(f\"Move {integer_part} complete revolution(s) per index\")\n",
    "    else:\n",
    "        print(\"No divisible hole found\")\n",
    "\n",
    "\n",
    "\n",
    "\n",
    "if __name__ == \"__main__\":\n",
    "    main()"
   ]
  }
 ],
 "metadata": {
  "kernelspec": {
   "display_name": "base",
   "language": "python",
   "name": "python3"
  },
  "language_info": {
   "codemirror_mode": {
    "name": "ipython",
    "version": 3
   },
   "file_extension": ".py",
   "mimetype": "text/x-python",
   "name": "python",
   "nbconvert_exporter": "python",
   "pygments_lexer": "ipython3",
   "version": "3.11.8"
  }
 },
 "nbformat": 4,
 "nbformat_minor": 2
}
